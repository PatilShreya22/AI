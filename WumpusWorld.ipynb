{
  "nbformat": 4,
  "nbformat_minor": 0,
  "metadata": {
    "colab": {
      "provenance": [],
      "authorship_tag": "ABX9TyOt9lUwdwgQ4rYgPCuRh7ZA",
      "include_colab_link": true
    },
    "kernelspec": {
      "name": "python3",
      "display_name": "Python 3"
    },
    "language_info": {
      "name": "python"
    }
  },
  "cells": [
    {
      "cell_type": "markdown",
      "metadata": {
        "id": "view-in-github",
        "colab_type": "text"
      },
      "source": [
        "<a href=\"https://colab.research.google.com/github/PatilShreya22/AI/blob/main/WumpusWorld.ipynb\" target=\"_parent\"><img src=\"https://colab.research.google.com/assets/colab-badge.svg\" alt=\"Open In Colab\"/></a>"
      ]
    },
    {
      "cell_type": "code",
      "execution_count": 7,
      "metadata": {
        "colab": {
          "base_uri": "https://localhost:8080/"
        },
        "id": "IakfivMa_SEW",
        "outputId": "0d38ac05-ba69-453a-b4ec-0b069ba0555a"
      },
      "outputs": [
        {
          "output_type": "stream",
          "name": "stdout",
          "text": [
            "Wumpus World Grid:\n",
            "Row 4: ['Agent', 'Breeze', 'PIT', 'Breeze']\n",
            "Row 3: ['Stench', 'Wumpus', 'Breeze', '']\n",
            "Row 2: ['Stench', 'Stench + Breeze', 'PIT', 'Breeze']\n",
            "Row 1: ['', 'Breeze', 'PIT', '']\n",
            "\n",
            "Enter the row position (1-4): 3\n",
            "Enter the column position (1-4): 1\n",
            "Enter the condition to check (e.g., Wumpus, PIT, Breeze, Stench, Gold, Agent): Wumpus\n",
            "Check adjacent cells as well? (yes/no): yes\n",
            "The condition 'Wumpus' exists at position [3, 1] or in its adjacent cells.\n"
          ]
        }
      ],
      "source": [
        "# Define the Wumpus World grid based on the image\n",
        "wumpus_world = [\n",
        "    [\"\", \"Breeze\", \"PIT\", \"\"],                    # Row 4\n",
        "    [\"Stench\", \"Stench + Breeze\", \"PIT\", \"Breeze\"],  # Row 3\n",
        "    [\"Stench\", \"Wumpus\", \"Breeze\", \"\"],          # Row 2 (Wumpus is here)\n",
        "    [\"Agent\", \"Breeze\", \"PIT\", \"Breeze\"]         # Row 1 (Agent is here)\n",
        "]\n",
        "\n",
        "def get_adjacent_cells(rows, cols, r, c):\n",
        "    \"\"\"\n",
        "    Returns valid adjacent cell coordinates.\n",
        "    \"\"\"\n",
        "    return [(r + dr, c + dc) for dr, dc in [(-1, 0), (1, 0), (0, -1), (0, 1)]\n",
        "            if 0 <= r + dr < rows and 0 <= c + dc < cols]\n",
        "\n",
        "def check_condition_at_position(grid, row, col, condition, check_adjacent=False):\n",
        "    \"\"\"\n",
        "    Checks if a specific condition exists at a given position or in adjacent cells.\n",
        "\n",
        "    Args:\n",
        "        grid: 2D list representing the Wumpus World grid.\n",
        "        row, col: Target cell coordinates (1-based indexing for user input).\n",
        "        condition: Condition to check for (e.g., \"Wumpus\", \"PIT\", \"Stench\", \"Agent\").\n",
        "        check_adjacent: If True, checks in adjacent cells.\n",
        "        1\n",
        "    Returns:\n",
        "        True if the condition is found, False otherwise.\n",
        "    \"\"\"\n",
        "    rows, cols = len(grid), len(grid[0])\n",
        "\n",
        "    # Convert user input from 1-based to 0-based indexing\n",
        "    row, col = row - 1, col - 1\n",
        "\n",
        "    # Check if the target position contains the condition\n",
        "    if condition in grid[row][col]:\n",
        "        return True\n",
        "\n",
        "    # If checking adjacent cells\n",
        "    if check_adjacent:\n",
        "        adjacent_cells = get_adjacent_cells(rows, cols, row, col)\n",
        "        for r, c in adjacent_cells:\n",
        "            if condition in grid[r][c]:\n",
        "                return True\n",
        "\n",
        "    return False\n",
        "\n",
        "# Display the Wumpus World Grid\n",
        "print(\"Wumpus World Grid:\")\n",
        "for row in reversed(range(len(wumpus_world))):\n",
        "    print(f\"Row {row+1}:\", wumpus_world[row])\n",
        "\n",
        "# User input for position and condition to check\n",
        "try:\n",
        "    row = int(input(\"\\nEnter the row position (1-4): \"))\n",
        "    col = int(input(\"Enter the column position (1-4): \"))\n",
        "    condition = input(\"Enter the condition to check (e.g., Wumpus, PIT, Breeze, Stench, Gold, Agent): \").strip()\n",
        "    check_adjacent = input(\"Check adjacent cells as well? (yes/no): \").strip().lower() == \"yes\"\n",
        "\n",
        "    # Perform the check\n",
        "    result = check_condition_at_position(wumpus_world, row, col, condition, check_adjacent)\n",
        "    if result:\n",
        "        print(f\"The condition '{condition}' exists at position [{row}, {col}] or in its adjacent cells.\")\n",
        "    else:\n",
        "        print(f\"The condition '{condition}' does NOT exist at position [{row}, {col}] or in its adjacent cells.\")\n",
        "\n",
        "except (ValueError, IndexError):\n",
        "    print(\"Invalid input! Please ensure row and column are between 1 and 4.\")\n"
      ]
    }
  ]
}